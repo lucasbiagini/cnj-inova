{
 "cells": [
  {
   "cell_type": "code",
   "execution_count": 66,
   "metadata": {},
   "outputs": [
    {
     "data": {
      "text/plain": [
       "60"
      ]
     },
     "execution_count": 66,
     "metadata": {},
     "output_type": "execute_result"
    }
   ],
   "source": [
    "import pandas as pd\n",
    "import math\n",
    "import pickle\n",
    "pd.options.display.max_rows"
   ]
  },
  {
   "cell_type": "markdown",
   "metadata": {},
   "source": [
    "# Read data"
   ]
  },
  {
   "cell_type": "code",
   "execution_count": 2,
   "metadata": {},
   "outputs": [],
   "source": [
    "path = \"datajud/justica_federal/\"\n",
    "\n",
    "files_path = ['processos-trf1/processos-trf1_1.json', 'processos-trf1/processos-trf1_5.json',\n",
    "              'processos-trf1/processos-trf1_2.json', 'processos-trf1/processos-trf1_6.json',\n",
    "              'processos-trf1/processos-trf1_3.json', 'processos-trf1/processos-trf1_7.json',\n",
    "              'processos-trf1/processos-trf1_4.json', 'processos-trf1/processos-trf1_8.json', 'processos-trf1/processos-trf1_9.json', 'processos-trf1/processos-trf1_10.json', 'processos-trf1/processos-trf1_11.json']"
   ]
  },
  {
   "cell_type": "code",
   "execution_count": 80,
   "metadata": {},
   "outputs": [],
   "source": [
    "classes = pd.read_csv('datajud/sgt_classes.csv', sep=';')\n",
    "subjects = pd.read_csv('datajud/sgt_assuntos.csv', sep=';')\n",
    "moviments = pd.read_csv('datajud/sgt_movimentos.csv', sep=';')"
   ]
  },
  {
   "cell_type": "code",
   "execution_count": 44,
   "metadata": {},
   "outputs": [
    {
     "name": "stdout",
     "output_type": "stream",
     "text": [
      "datajud/justica_federal/processos-trf1/processos-trf1_1.json\n",
      "datajud/justica_federal/processos-trf1/processos-trf1_5.json\n",
      "datajud/justica_federal/processos-trf1/processos-trf1_2.json\n",
      "datajud/justica_federal/processos-trf1/processos-trf1_6.json\n",
      "datajud/justica_federal/processos-trf1/processos-trf1_3.json\n",
      "datajud/justica_federal/processos-trf1/processos-trf1_7.json\n",
      "datajud/justica_federal/processos-trf1/processos-trf1_4.json\n",
      "datajud/justica_federal/processos-trf1/processos-trf1_8.json\n",
      "datajud/justica_federal/processos-trf1/processos-trf1_9.json\n",
      "datajud/justica_federal/processos-trf1/processos-trf1_10.json\n",
      "datajud/justica_federal/processos-trf1/processos-trf1_11.json\n"
     ]
    }
   ],
   "source": [
    "original_data = None\n",
    "for index, file_path in enumerate(files_path):\n",
    "    print(path + file_path)\n",
    "    df = pd.read_json(path + file_path)\n",
    "    if original_data is None:\n",
    "        original_data = df\n",
    "    else:\n",
    "        original_data = original_data.append(df)\n",
    "    \n",
    "#     if index > 5:\n",
    "#         break\n",
    "\n",
    "data = original_data.copy()"
   ]
  },
  {
   "cell_type": "code",
   "execution_count": 45,
   "metadata": {},
   "outputs": [],
   "source": [
    "def expand_dict(df, column_name, drop=False):\n",
    "    clean_column_data = df[column_name].dropna()\n",
    "    column_data = clean_column_data.apply(lambda row: pd.Series(row))\n",
    "    \n",
    "    if drop:\n",
    "        df.drop(column_name, axis=1, inplace=True)\n",
    "\n",
    "    return pd.concat([df, column_data], axis=1)"
   ]
  },
  {
   "cell_type": "markdown",
   "metadata": {},
   "source": [
    "## Expand basic metadata"
   ]
  },
  {
   "cell_type": "code",
   "execution_count": 46,
   "metadata": {},
   "outputs": [],
   "source": [
    "data = expand_dict(data, 'dadosBasicos', True)\n",
    "data = expand_dict(data, 'orgaoJulgador', True)"
   ]
  },
  {
   "cell_type": "code",
   "execution_count": 81,
   "metadata": {},
   "outputs": [],
   "source": [
    "subject_data = data[['numero', 'assunto']].explode('assunto').reset_index(drop=True)"
   ]
  },
  {
   "cell_type": "markdown",
   "metadata": {},
   "source": [
    "## Expand subject and moviment data"
   ]
  },
  {
   "cell_type": "code",
   "execution_count": 82,
   "metadata": {},
   "outputs": [],
   "source": [
    "subject_data = expand_dict(subject_data, 'assunto', True)"
   ]
  },
  {
   "cell_type": "code",
   "execution_count": 83,
   "metadata": {},
   "outputs": [],
   "source": [
    "subject_data = expand_dict(subject_data, 'assuntoLocal', True)"
   ]
  },
  {
   "cell_type": "markdown",
   "metadata": {},
   "source": [
    "# Get subject parent and grandparent codes"
   ]
  },
  {
   "cell_type": "code",
   "execution_count": 50,
   "metadata": {},
   "outputs": [],
   "source": [
    "def get_code(row):\n",
    "    subject_code = float('NaN')\n",
    "    if not math.isnan(row['codigoNacional']):\n",
    "        subject_code = row['codigoNacional']\n",
    "    elif not math.isnan(row['codigoPaiNacional']):\n",
    "        subject_code = row['codigoPaiNacional']\n",
    "    \n",
    "    return subject_code\n",
    "\n",
    "def get_parent(row):\n",
    "    subject_code = float('NaN')\n",
    "    if not math.isnan(row['codigoNacional']):\n",
    "        subject_code = row['codigoNacional']\n",
    "    elif not math.isnan(row['codigoPaiNacional']):\n",
    "        subject_code = row['codigoPaiNacional']\n",
    "    else:\n",
    "        return subject_code\n",
    "\n",
    "    parent_series = subjects.loc[subjects['codigo'] == subject_code]['cod_pai']\n",
    "    return parent_series.iloc[0] if parent_series.size == 1 else subject_code\n",
    "\n",
    "def get_grandparent(row):\n",
    "    subject_code = float('NaN')\n",
    "    if not math.isnan(row['cod_pai']):\n",
    "        subject_code = row['cod_pai']\n",
    "    else:\n",
    "        return subject_code\n",
    "\n",
    "    parent_series = subjects.loc[subjects['codigo'] == subject_code]['cod_pai']\n",
    "    return parent_series.iloc[0] if parent_series.size == 1 else subject_code"
   ]
  },
  {
   "cell_type": "code",
   "execution_count": 84,
   "metadata": {},
   "outputs": [],
   "source": [
    "subject_data['cod'] = subject_data.apply(get_code, axis=1)\n",
    "subject_data['cod_pai'] = subject_data.apply(get_parent, axis=1)\n",
    "subject_data['cod_avo'] = subject_data.apply(get_grandparent, axis=1)"
   ]
  },
  {
   "cell_type": "code",
   "execution_count": 85,
   "metadata": {},
   "outputs": [],
   "source": [
    "subject_basic = pd.merge(data, subject_data, on='numero')"
   ]
  },
  {
   "cell_type": "markdown",
   "metadata": {},
   "source": [
    "## Add parent codes to classes and subjects"
   ]
  },
  {
   "cell_type": "code",
   "execution_count": 61,
   "metadata": {},
   "outputs": [],
   "source": [
    "def get_parents(df, code_col = 'codigo', parent_col = 'cod_pai'):\n",
    "    parents = {}\n",
    "    for index, row in df.iterrows():\n",
    "        current_code = row[code_col]\n",
    "        parent_code = row[parent_col]\n",
    "\n",
    "        parents[current_code] = [current_code]\n",
    "\n",
    "        if parent_code in parents:\n",
    "            parents[current_code] = parents[parent_code] + [parent_code, current_code]\n",
    "        else:\n",
    "            while not math.isnan(parent_code):\n",
    "                parents[current_code].insert(0, parent_code)\n",
    "                parent_code = df.loc[df['codigo'] == parent_code].iloc[0]['cod_pai']\n",
    "\n",
    "    return parents\n",
    "\n",
    "def get_sons(df, code_col = 'codigo', parents_col = 'cod_pais'):\n",
    "    sons = {}\n",
    "    for index, row in df.iterrows():\n",
    "        current_code = row[code_col]\n",
    "        current_parents = row[parents_col]\n",
    "\n",
    "        for parent_code in current_parents:\n",
    "            if parent_code not in sons:\n",
    "                sons[parent_code] = []\n",
    "\n",
    "            sons[parent_code].append(current_code)\n",
    "\n",
    "    return sons"
   ]
  },
  {
   "cell_type": "code",
   "execution_count": 86,
   "metadata": {},
   "outputs": [],
   "source": [
    "subject_parents = pd.DataFrame(get_parents(subjects).items(), columns = ['codigo', 'cod_pais'])\n",
    "class_parents = pd.DataFrame(get_parents(classes).items(), columns = ['codigo', 'cod_pais'])"
   ]
  },
  {
   "cell_type": "code",
   "execution_count": 87,
   "metadata": {},
   "outputs": [],
   "source": [
    "subject_sons_dict = get_sons(subject_parents)\n",
    "class_sons_dict = get_sons(class_parents)\n",
    "\n",
    "subject_sons = pd.DataFrame(subject_sons_dict.items(), columns = ['codigo', 'todos_filhos'])\n",
    "class_sons = pd.DataFrame(class_sons_dict.items(), columns = ['codigo', 'todos_filhos'])"
   ]
  },
  {
   "cell_type": "code",
   "execution_count": 88,
   "metadata": {},
   "outputs": [],
   "source": [
    "classes = classes.merge(class_parents, on='codigo')\n",
    "classes = classes.merge(class_sons, on='codigo')\n",
    "subjects = subjects.merge(subject_parents, on='codigo')\n",
    "subjects = subjects.merge(subject_sons, on='codigo')"
   ]
  },
  {
   "cell_type": "code",
   "execution_count": 89,
   "metadata": {},
   "outputs": [],
   "source": [
    "subjects['cod_pais_obj'] = subjects['cod_pais'].apply(lambda parents: {'subject_level_{}'.format(str(i)): v for i, v in enumerate(parents)})\n",
    "classes['cod_pais_obj'] = classes['cod_pais'].apply(lambda parents: {'class_level_{}'.format(str(i)): v for i, v in enumerate(parents)})"
   ]
  },
  {
   "cell_type": "code",
   "execution_count": 90,
   "metadata": {},
   "outputs": [],
   "source": [
    "subjects = expand_dict(subjects, 'cod_pais_obj', True)\n",
    "classes = expand_dict(classes, 'cod_pais_obj', True)"
   ]
  },
  {
   "cell_type": "code",
   "execution_count": 91,
   "metadata": {},
   "outputs": [],
   "source": [
    "subs = subjects[['codigo', 'subject_level_0', 'subject_level_1', 'subject_level_2', 'subject_level_3', 'subject_level_4', 'subject_level_5']]\n",
    "clas = classes[['codigo', 'class_level_0', 'class_level_1', 'class_level_2', 'class_level_3', 'class_level_4']]"
   ]
  },
  {
   "cell_type": "code",
   "execution_count": 92,
   "metadata": {},
   "outputs": [],
   "source": [
    "subject_basic = pd.merge(subject_basic, subs, left_on='codigoPaiNacional', right_on='codigo', how='left')\n",
    "subject_basic = pd.merge(subject_basic, clas, left_on='classeProcessual', right_on='codigo', how='left')\n",
    "subject_basic = subject_basic\\\n",
    "    .loc[subject_basic['principal'] == True]\\\n",
    "    .drop(columns=['movimento', 'assunto', 'dataAjuizamento', 'nivelSigilo', 'codigoMunicipioIBGE', 'competencia', 'codigoLocalidade', 'valorCausa', 'principal', 'codigoNacional', 'codigoAssunto', 'codigo_x', 'codigo_y'])"
   ]
  },
  {
   "cell_type": "code",
   "execution_count": 96,
   "metadata": {},
   "outputs": [],
   "source": [
    "subject_basic.to_pickle('subject_basic.pkl')\n",
    "classes.to_pickle('classes.pkl')\n",
    "subjects.to_pickle('subjects.pkl')"
   ]
  },
  {
   "cell_type": "code",
   "execution_count": null,
   "metadata": {},
   "outputs": [],
   "source": []
  }
 ],
 "metadata": {
  "kernelspec": {
   "display_name": "Python 3",
   "language": "python",
   "name": "python3"
  },
  "language_info": {
   "codemirror_mode": {
    "name": "ipython",
    "version": 3
   },
   "file_extension": ".py",
   "mimetype": "text/x-python",
   "name": "python",
   "nbconvert_exporter": "python",
   "pygments_lexer": "ipython3",
   "version": "3.8.5"
  }
 },
 "nbformat": 4,
 "nbformat_minor": 4
}
